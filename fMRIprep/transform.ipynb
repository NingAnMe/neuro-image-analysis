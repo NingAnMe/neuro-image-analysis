{
 "cells": [
  {
   "cell_type": "markdown",
   "source": [
    "# from MNI152 to T1w"
   ],
   "metadata": {
    "collapsed": false
   }
  },
  {
   "cell_type": "code",
   "execution_count": 3,
   "outputs": [],
   "source": [
    "import os"
   ],
   "metadata": {
    "collapsed": false,
    "ExecuteTime": {
     "end_time": "2023-07-19T01:36:36.998945269Z",
     "start_time": "2023-07-19T01:36:36.989530752Z"
    }
   }
  },
  {
   "cell_type": "code",
   "execution_count": 4,
   "outputs": [],
   "source": [
    "moving_image = '/run/user/1000/gvfs/sftp:host=30.30.30.17,user=youjia/mnt/ngshare/fMRIPrep_UKB_150/UKB_150_BoldPreprocess_bpss_resid_smooth/sub-1000107/ses-02/func/sub-1000107_ses-02_task-rest_run-01_space-MNI152NLin6Asym_res-02_desc-preproc_bold_bpss_resid6_sm6.nii.gz'\n",
    "fixed_image = '/run/user/1000/gvfs/sftp:host=30.30.30.17,user=youjia/mnt/ngshare/fMRIPrep_UKB_150/UKB_150_Recon/sub-1000107/mri/T1.mgz'\n",
    "output_image = '/run/user/1000/gvfs/sftp:host=30.30.30.17,user=youjia/mnt/ngshare/fMRIPrep_UKB_150/UKB_150_BoldPreprocess_bpss_resid_smooth/sub-1000107/ses-02/func/sub-1000107_ses-02_task-rest_run-01_space-MNI152NLin6Asym_res-02_desc-preproc_bold_bpss_resid6_sm6_T1w.nii.gz'\n",
    "input_transform = '/run/user/1000/gvfs/sftp:host=30.30.30.17,user=youjia/mnt/ngshare/fMRIPrep_UKB_150/UKB_150_BoldPreprocess/sub-1000107/ses-02/anat/sub-1000107_ses-02_from-MNI152NLin6Asym_to-T1w_mode-image_xfm.h5'\n",
    "\n",
    "cmd = f'python3 ../registration/ants_apply_transforms.py --moving_image {moving_image} --fixed_image {fixed_image} --output_image {output_image} --input_transform {input_transform}'"
   ],
   "metadata": {
    "collapsed": false,
    "ExecuteTime": {
     "end_time": "2023-07-19T01:36:38.182883380Z",
     "start_time": "2023-07-19T01:36:38.163413885Z"
    }
   }
  },
  {
   "cell_type": "code",
   "execution_count": 5,
   "outputs": [
    {
     "name": "stdout",
     "output_type": "stream",
     "text": [
      "python3 ../registration/ants_apply_transforms.py --moving_image /run/user/1000/gvfs/sftp:host=30.30.30.17,user=youjia/mnt/ngshare/fMRIPrep_UKB_150/UKB_150_BoldPreprocess_bpss_resid_smooth/sub-1000107/ses-02/func/sub-1000107_ses-02_task-rest_run-01_space-MNI152NLin6Asym_res-02_desc-preproc_bold_bpss_resid6_sm6.nii.gz --fixed_image /run/user/1000/gvfs/sftp:host=30.30.30.17,user=youjia/mnt/ngshare/fMRIPrep_UKB_150/UKB_150_Recon/sub-1000107/mri/T1.mgz --output_image /run/user/1000/gvfs/sftp:host=30.30.30.17,user=youjia/mnt/ngshare/fMRIPrep_UKB_150/UKB_150_BoldPreprocess_bpss_resid_smooth/sub-1000107/ses-02/func/sub-1000107_ses-02_task-rest_run-01_space-MNI152NLin6Asym_res-02_desc-preproc_bold_bpss_resid6_sm6_T1w.nii.gz --input_transform /run/user/1000/gvfs/sftp:host=30.30.30.17,user=youjia/mnt/ngshare/fMRIPrep_UKB_150/UKB_150_BoldPreprocess/sub-1000107/ses-02/anat/sub-1000107_ses-02_from-MNI152NLin6Asym_to-T1w_mode-image_xfm.h5\n"
     ]
    },
    {
     "data": {
      "text/plain": "0"
     },
     "execution_count": 5,
     "metadata": {},
     "output_type": "execute_result"
    }
   ],
   "source": [
    "print(cmd)\n",
    "os.system(cmd)"
   ],
   "metadata": {
    "collapsed": false,
    "ExecuteTime": {
     "end_time": "2023-07-19T01:59:58.963731983Z",
     "start_time": "2023-07-19T01:36:38.329407229Z"
    }
   }
  },
  {
   "cell_type": "markdown",
   "source": [
    "# from MNI152 to fsaverage6"
   ],
   "metadata": {
    "collapsed": false
   }
  },
  {
   "cell_type": "code",
   "execution_count": null,
   "outputs": [],
   "source": [
    "import os\n",
    "from neuromaps import transforms"
   ],
   "metadata": {
    "collapsed": false
   }
  },
  {
   "cell_type": "code",
   "execution_count": null,
   "outputs": [],
   "source": [
    "def set_envrion(freesurfer_home='/usr/local/freesurfer720'):\n",
    "    # FreeSurfer recon-all env\n",
    "    os.environ['FREESURFER_HOME'] = f'{freesurfer_home}'\n",
    "    os.environ['FREESURFER'] = f'{freesurfer_home}'"
   ],
   "metadata": {
    "collapsed": false
   }
  },
  {
   "cell_type": "code",
   "execution_count": null,
   "outputs": [],
   "source": [
    "def transform_mni152_to_fsaverage(input_file, lh_output_file, rh_output_file, fsavg_density='41k', method='linear'):\n",
    "    \"\"\"Projects img in MNI152 space to fsaverage surface\n",
    "\n",
    "Parameters\n",
    ":\n",
    "img (str or os.PathLike or niimg_like) – Image in MNI152 space to be projected\n",
    "\n",
    "fsavg_density ({'3k', '10k', '41k', '164k'}, optional) – Desired output density of fsaverage surface. Default: ‘41k’\n",
    "\n",
    "method ({'nearest', 'linear'}, optional) – Method for projection. Specify ‘nearest’ if img is a label image. Default: ‘linear’\n",
    "\n",
    "Returns\n",
    ":\n",
    "fsaverage – Projected img on fsaverage surface\n",
    "\n",
    "Return type\n",
    ":\n",
    "(2,) tuple-of-nib.GiftiImage\n",
    "    \"\"\"\n",
    "    assert os.path.isfile(input_file)\n",
    "    lh_gii, rh_gii = transforms.mni152_to_fsaverage(input_file, fsavg_density=fsavg_density, method=method)\n",
    "    lh_gii_file = 'lh.' + os.path.basename(input_file) + '.func.gii'\n",
    "    rh_gii_file = 'rh.' + os.path.basename(input_file) + '.func.gii'\n",
    "    lh_gii.to_filename(lh_gii_file)\n",
    "    rh_gii.to_filename(rh_gii_file)\n",
    "    os.system(f'mri_convert {lh_gii_file} {lh_output_file}')\n",
    "    os.system(f'mri_convert {rh_gii_file} {rh_output_file}')\n",
    "    os.remove(lh_gii_file)\n",
    "    os.remove(rh_gii_file)"
   ],
   "metadata": {
    "collapsed": false
   }
  }
 ],
 "metadata": {
  "kernelspec": {
   "display_name": "Python 3",
   "language": "python",
   "name": "python3"
  },
  "language_info": {
   "codemirror_mode": {
    "name": "ipython",
    "version": 2
   },
   "file_extension": ".py",
   "mimetype": "text/x-python",
   "name": "python",
   "nbconvert_exporter": "python",
   "pygments_lexer": "ipython2",
   "version": "2.7.6"
  }
 },
 "nbformat": 4,
 "nbformat_minor": 0
}
