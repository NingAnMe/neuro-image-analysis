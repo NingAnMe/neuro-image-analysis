{
 "cells": [
  {
   "cell_type": "code",
   "execution_count": null,
   "id": "ca892db1-c445-4e10-b3a0-3418a6655fc8",
   "metadata": {},
   "outputs": [],
   "source": [
    "import os\n",
    "from pathlib import Path\n",
    "import numpy as np\n",
    "import pandas as pd\n",
    "import matplotlib.pyplot as plt\n",
    "import nibabel as nib\n",
    "import ants\n",
    "import seaborn as sns"
   ]
  },
  {
   "cell_type": "code",
   "execution_count": null,
   "id": "2d1eaa9a-e29f-40d1-b9b9-6928059f348f",
   "metadata": {},
   "outputs": [],
   "source": [
    "# %%capture\n",
    "%matplotlib inline\n",
    "# %config InlineBackend.figure_format='svg'\n",
    "# import matplotlib\n",
    "# matplotlib.use('Qt5Agg')"
   ]
  },
  {
   "cell_type": "code",
   "execution_count": null,
   "id": "4d1fb956-a42c-48c5-843a-2a049f81710e",
   "metadata": {},
   "outputs": [],
   "source": [
    "data_path = Path('/run/user/1000/gvfs/sftp:host=30.30.30.17,user=youjia/mnt/ngshare2/TRIGGER/Preprocessing')"
   ]
  },
  {
   "cell_type": "code",
   "execution_count": null,
   "id": "95bcc3c3-3ff9-451e-8d46-c6be48fd25cb",
   "metadata": {},
   "outputs": [],
   "source": [
    "subject = 'sub-07142303'\n",
    "\n",
    "mc_files = list(data_path.glob(f'{subject}/*_mc.csv'))\n",
    "\n",
    "mc_files.sort()\n",
    "\n",
    "# print(mc_files)\n",
    "\n",
    "fig, axs = plt.subplots(6, 2, sharex='col', sharey='row', figsize=(14, 10))\n",
    "for num, csv_file in enumerate(mc_files):\n",
    "    print(num, csv_file)\n",
    "    data_df = pd.read_csv(csv_file)\n",
    "    i, j = num // 2, num % 2\n",
    "    ax = axs[i, j]\n",
    "    \n",
    "    sns.lineplot(data=data_df[['abs_dis', 'rel_dis']], alpha=0.8, ax=ax)\n",
    "    ax.set_ylim(0, 0.3)\n",
    "    abs_mean = data_df[['abs_dis']].mean()\n",
    "    rel_mean = data_df[['rel_dis']].mean()\n",
    "    title = f\"{csv_file.name.split('_')[-3]} abs-mean {float(abs_mean):0.3f} rel-mean {float(rel_mean):0.3f}\"\n",
    "    ax.set_title(title)\n",
    "fig.tight_layout()\n",
    "# fig"
   ]
  },
  {
   "cell_type": "code",
   "execution_count": null,
   "id": "420143f7-f17a-4bb8-bb57-e72a60859bf0",
   "metadata": {},
   "outputs": [],
   "source": []
  }
 ],
 "metadata": {
  "kernelspec": {
   "display_name": "Python 3 (ipykernel)",
   "language": "python",
   "name": "python3"
  },
  "language_info": {
   "codemirror_mode": {
    "name": "ipython",
    "version": 3
   },
   "file_extension": ".py",
   "mimetype": "text/x-python",
   "name": "python",
   "nbconvert_exporter": "python",
   "pygments_lexer": "ipython3",
   "version": "3.8.13"
  }
 },
 "nbformat": 4,
 "nbformat_minor": 5
}
