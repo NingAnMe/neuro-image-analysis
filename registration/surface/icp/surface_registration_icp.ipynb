{
 "cells": [
  {
   "cell_type": "code",
   "execution_count": 1,
   "id": "ad1b5f3d-ab42-40c1-9e9f-4fcde5e51c06",
   "metadata": {},
   "outputs": [],
   "source": [
    "from pytorch3d.ops import iterative_closest_point"
   ]
  },
  {
   "cell_type": "code",
   "execution_count": 2,
   "id": "2a295701-866e-44b3-b57f-6bbf27ede2a5",
   "metadata": {},
   "outputs": [],
   "source": [
    "dir_path = '/home/anning/Downloads'"
   ]
  },
  {
   "cell_type": "code",
   "execution_count": 3,
   "id": "54373bac-50e4-4858-a8fe-a6dfba2d31e3",
   "metadata": {},
   "outputs": [],
   "source": [
    "import os"
   ]
  },
  {
   "cell_type": "code",
   "execution_count": 4,
   "id": "e4cc86c2-6824-407a-9c12-4807a3420e7c",
   "metadata": {},
   "outputs": [],
   "source": [
    "lh_source = os.path.join(dir_path, 'lh_pial_source.npz')"
   ]
  },
  {
   "cell_type": "code",
   "execution_count": 5,
   "id": "3249293e-4d05-45da-b597-36cc3211392c",
   "metadata": {},
   "outputs": [],
   "source": [
    "lh_target = os.path.join(dir_path, 'lh_pial_target.npz')"
   ]
  },
  {
   "cell_type": "code",
   "execution_count": 6,
   "id": "8d3a8e21-5e4f-4793-a8a3-de0bc7f604a0",
   "metadata": {},
   "outputs": [],
   "source": [
    "import numpy as np"
   ]
  },
  {
   "cell_type": "code",
   "execution_count": 7,
   "id": "c0860405-23a9-4107-a37b-8ed27bb05ccf",
   "metadata": {},
   "outputs": [],
   "source": [
    "with np.load(lh_source) as data:\n",
    "    s_Vertices = data['Vertices']\n",
    "    s_Faces = data['Faces']"
   ]
  },
  {
   "cell_type": "code",
   "execution_count": 8,
   "id": "a1a694fb-b36a-4572-8770-6e59f62f74d7",
   "metadata": {},
   "outputs": [],
   "source": [
    "with np.load(lh_target) as data:\n",
    "    t_Vertices = data['Vertices']\n",
    "    t_Faces = data['Faces']"
   ]
  },
  {
   "cell_type": "code",
   "execution_count": 9,
   "id": "b151acc4-0400-453c-b561-844ad6736a04",
   "metadata": {},
   "outputs": [],
   "source": [
    "import torch"
   ]
  },
  {
   "cell_type": "code",
   "execution_count": 10,
   "id": "7d35f131-222f-422b-a3ee-d94c34ac7f63",
   "metadata": {},
   "outputs": [],
   "source": [
    "s_Vertices = torch.from_numpy(s_Vertices[np.newaxis, :]).float().cuda()"
   ]
  },
  {
   "cell_type": "code",
   "execution_count": 11,
   "id": "294a31b8-088f-4d57-9f23-c48443c14bac",
   "metadata": {},
   "outputs": [],
   "source": [
    "t_Vertices = torch.from_numpy(t_Vertices[np.newaxis, :]).float().cuda()"
   ]
  },
  {
   "cell_type": "code",
   "execution_count": 12,
   "id": "89e3932f-cad6-4b88-bbd1-6c233332a7d8",
   "metadata": {},
   "outputs": [],
   "source": [
    "R_init = torch.from_numpy(np.eye(3)[np.newaxis, :]).float().cuda()"
   ]
  },
  {
   "cell_type": "code",
   "execution_count": 13,
   "id": "47e0b313-4a48-446f-8786-58353c388139",
   "metadata": {},
   "outputs": [],
   "source": [
    "T_init = torch.from_numpy(np.array([0.1, 0.1, 0.1]).reshape(1, 3)).float().cuda()"
   ]
  },
  {
   "cell_type": "code",
   "execution_count": 14,
   "id": "3e544370-3383-4257-accf-90734a5cdf9b",
   "metadata": {},
   "outputs": [],
   "source": [
    "s_init = torch.from_numpy(np.array([1])).float().cuda()"
   ]
  },
  {
   "cell_type": "code",
   "execution_count": 15,
   "id": "3196d868-39a0-4cb5-b259-dd1311370fd8",
   "metadata": {},
   "outputs": [],
   "source": [
    "init_trans = (R_init, T_init, s_init)"
   ]
  },
  {
   "cell_type": "code",
   "execution_count": 16,
   "id": "66cca854-e75c-4888-8d88-c503ad0a05dd",
   "metadata": {},
   "outputs": [],
   "source": [
    "result = iterative_closest_point(s_Vertices, t_Vertices, init_trans, max_iterations=100)"
   ]
  },
  {
   "cell_type": "code",
   "execution_count": 17,
   "id": "9c288a54-51e2-4134-9e37-49d57aba1002",
   "metadata": {},
   "outputs": [
    {
     "data": {
      "text/plain": [
       "True"
      ]
     },
     "execution_count": 17,
     "metadata": {},
     "output_type": "execute_result"
    }
   ],
   "source": [
    "result.converged"
   ]
  },
  {
   "cell_type": "code",
   "execution_count": 18,
   "id": "d857fb63-3c63-4c45-9042-eb5457573349",
   "metadata": {},
   "outputs": [
    {
     "data": {
      "text/plain": [
       "(tensor([[[ 1.0001e+00,  3.6875e-04, -1.2874e-03],\n",
       "          [-3.8928e-04,  9.9998e-01,  6.0586e-04],\n",
       "          [ 1.1253e-03, -6.8723e-04,  1.0000e+00]]], device='cuda:0'),\n",
       " tensor([[ -0.4752,  17.4667, -22.4932]], device='cuda:0'))"
      ]
     },
     "execution_count": 18,
     "metadata": {},
     "output_type": "execute_result"
    }
   ],
   "source": [
    "result.RTs.R, result.RTs.T"
   ]
  },
  {
   "cell_type": "markdown",
   "id": "2f570d56-69d8-48cf-b60a-7ce7c41df5d6",
   "metadata": {},
   "source": [
    "# apply"
   ]
  },
  {
   "cell_type": "code",
   "execution_count": 19,
   "id": "f2429646-f233-4bd2-8ebf-d96d0e6097c6",
   "metadata": {},
   "outputs": [],
   "source": [
    "R = result.RTs.R.cpu()\n",
    "T = result.RTs.T.cpu()"
   ]
  },
  {
   "cell_type": "code",
   "execution_count": 20,
   "id": "9a61d97d-b70b-44df-9420-d3e65b5e1675",
   "metadata": {},
   "outputs": [],
   "source": [
    "def apply_pcl_transformation(X_t, R, T, s=None):\n",
    "    \"\"\"\n",
    "    Apply a batch of similarity/rigid transformations, parametrized with\n",
    "    rotation `R`, translation `T` and scale `s`, to an input batch of\n",
    "    point clouds `X`.\n",
    "    \"\"\"\n",
    "\n",
    "    if s is not None:\n",
    "        X_t = s[:, None, None] * X_t\n",
    "\n",
    "    X_t = torch.bmm(X_t, R) + T[:, None, :]\n",
    "\n",
    "    return X_t"
   ]
  },
  {
   "cell_type": "code",
   "execution_count": 21,
   "id": "b7fc2516-eb19-441e-b55d-e90bd737b5bb",
   "metadata": {},
   "outputs": [],
   "source": [
    "with np.load(lh_source) as data:\n",
    "    s_Vertices = data['Vertices']"
   ]
  },
  {
   "cell_type": "code",
   "execution_count": 22,
   "id": "e7f9a144-648c-4357-9d1c-cb5ba1db31b2",
   "metadata": {},
   "outputs": [],
   "source": [
    "s_Vertices = torch.from_numpy(s_Vertices[np.newaxis, :]).float()"
   ]
  },
  {
   "cell_type": "code",
   "execution_count": 24,
   "id": "fd95618b-d4e8-4bae-845b-87fdb93bf33a",
   "metadata": {},
   "outputs": [],
   "source": [
    "s_Vertices_moved = apply_pcl_transformation(s_Vertices, R, T)"
   ]
  },
  {
   "cell_type": "code",
   "execution_count": 25,
   "id": "788f566c-d157-4ff6-9e41-1394940d3ec2",
   "metadata": {},
   "outputs": [
    {
     "data": {
      "text/plain": [
       "array([[[ -9.599041 , -89.11702  , -13.905361 ],\n",
       "        [-10.3878565, -89.212234 , -14.130046 ],\n",
       "        [-11.276999 , -89.276375 , -14.43433  ],\n",
       "        ...,\n",
       "        [-21.52945  ,  59.976704 ,  16.089872 ],\n",
       "        [-20.858063 ,  61.19194  ,  16.218588 ],\n",
       "        [-20.876316 ,  61.109924 ,  16.470644 ]]], dtype=float32)"
      ]
     },
     "execution_count": 25,
     "metadata": {},
     "output_type": "execute_result"
    }
   ],
   "source": [
    "s_Vertices_moved = s_Vertices_moved.numpy()\n",
    "s_Vertices_moved"
   ]
  },
  {
   "cell_type": "markdown",
   "id": "beca78f5-4c5a-42fa-97f2-c743a8ccc9b2",
   "metadata": {},
   "source": [
    "## save surface"
   ]
  },
  {
   "cell_type": "code",
   "execution_count": 26,
   "id": "a9b41271-3646-4547-8b7f-a271ab68f2fa",
   "metadata": {},
   "outputs": [],
   "source": [
    "import nibabel as nib"
   ]
  },
  {
   "cell_type": "code",
   "execution_count": 27,
   "id": "6225c910-571e-4176-b2cf-9f8811e9014b",
   "metadata": {},
   "outputs": [
    {
     "data": {
      "text/plain": [
       "(1, 152854, 3)"
      ]
     },
     "execution_count": 27,
     "metadata": {},
     "output_type": "execute_result"
    }
   ],
   "source": [
    "s_Vertices_moved.shape"
   ]
  },
  {
   "cell_type": "code",
   "execution_count": 28,
   "id": "468c0c58-f16c-4422-bb51-889af74e0d06",
   "metadata": {},
   "outputs": [],
   "source": [
    "nib.freesurfer.write_geometry('lh_moved.pial', s_Vertices_moved.squeeze().astype(float), s_Faces.astype(int))"
   ]
  },
  {
   "cell_type": "code",
   "execution_count": 29,
   "id": "557697c2-730e-400a-8987-4b6913e9cd7c",
   "metadata": {},
   "outputs": [],
   "source": [
    "with np.load(lh_target) as data:\n",
    "    t_Vertices = data['Vertices']\n",
    "    t_Faces = data['Faces']\n"
   ]
  },
  {
   "cell_type": "code",
   "execution_count": 30,
   "id": "e6355517-d5f4-4727-93b3-eff4d4eabb0b",
   "metadata": {},
   "outputs": [],
   "source": [
    "nib.freesurfer.write_geometry('lh_target.pial', t_Vertices.astype(float), t_Faces.astype(int))"
   ]
  },
  {
   "cell_type": "code",
   "execution_count": null,
   "id": "eb5b0add-040c-4cdf-af4d-896ad7e52f6f",
   "metadata": {},
   "outputs": [],
   "source": []
  }
 ],
 "metadata": {
  "kernelspec": {
   "display_name": "Python 3 (ipykernel)",
   "language": "python",
   "name": "python3"
  },
  "language_info": {
   "codemirror_mode": {
    "name": "ipython",
    "version": 3
   },
   "file_extension": ".py",
   "mimetype": "text/x-python",
   "name": "python",
   "nbconvert_exporter": "python",
   "pygments_lexer": "ipython3",
   "version": "3.8.13"
  }
 },
 "nbformat": 4,
 "nbformat_minor": 5
}
